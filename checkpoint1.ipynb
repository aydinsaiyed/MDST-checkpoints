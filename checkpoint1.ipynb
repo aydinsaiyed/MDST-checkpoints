{
  "cells": [
    {
      "cell_type": "markdown",
      "metadata": {
        "id": "PWCd15V7bd3q"
      },
      "source": [
        "# Checkpoint 1"
      ]
    },
    {
      "cell_type": "markdown",
      "metadata": {
        "id": "WS0KQl-kbd3r"
      },
      "source": [
        "Reminder:\n",
        "\n",
        "- You are being evaluated for completion and effort in this checkpoint.\n",
        "- Avoid manual labor / hard coding as much as possible, everything we've taught you so far are meant to simplify and automate your process.\n",
        "- Please do not remove any comment that starts with: \"# @@@\"."
      ]
    },
    {
      "cell_type": "markdown",
      "metadata": {
        "id": "3tC_HGYUbd3r"
      },
      "source": [
        "We will be working with the same `states_edu.csv` that you should already be familiar with from the tutorial.\n",
        "\n",
        "We investigated Grade 8 reading score in the tutorial. For this checkpoint, you are asked to investigate another test. Here's an overview:\n",
        "\n",
        "* Choose a specific response variable to focus on\n",
        ">Grade 4 Math, Grade 4 Reading, Grade 8 Math\n",
        "* Pick or create features to use\n",
        ">Will all the features be useful in predicting test score? Are some more important than others? Should you standardize, bin, or scale the data?\n",
        "* Explore the data as it relates to that test\n",
        ">Create at least 2 visualizations (graphs), each with a caption describing the graph and what it tells us about the data\n",
        "* Create training and testing data\n",
        ">Do you want to train on all the data? Only data from the last 10 years? Only Michigan data?\n",
        "* Train a ML model to predict outcome\n",
        ">Define what you want to predict, and pick a model in sklearn to use (see sklearn <a href=\"https://scikit-learn.org/stable/modules/linear_model.html\">regressors</a>).\n",
        "\n",
        "\n",
        "Include comments throughout your code! Every cleanup and preprocessing task should be documented.\n"
      ]
    },
    {
      "cell_type": "markdown",
      "metadata": {
        "id": "jK96JecAbd3r"
      },
      "source": []
    },
    {
      "cell_type": "markdown",
      "metadata": {
        "id": "vE18IVJbbd3r"
      },
      "source": [
        "<h2> Data Cleanup </h2>\n",
        "\n",
        "Import `numpy`, `pandas`, and `matplotlib`.\n",
        "\n",
        "(Feel free to import other libraries!)"
      ]
    },
    {
      "cell_type": "code",
      "execution_count": null,
      "metadata": {
        "id": "GYmH_2VUbd3r"
      },
      "outputs": [],
      "source": []
    },
    {
      "cell_type": "markdown",
      "metadata": {
        "id": "Ve-g08EAbd3r"
      },
      "source": [
        "Load in the \"states_edu.csv\" dataset and take a look at the head of the data"
      ]
    },
    {
      "cell_type": "code",
      "execution_count": null,
      "metadata": {
        "id": "Eabb79ixbd3r"
      },
      "outputs": [],
      "source": []
    },
    {
      "cell_type": "markdown",
      "metadata": {
        "id": "bXqJe7q4bd3r"
      },
      "source": [
        "You should always familiarize yourself with what each column in the dataframe represents. Read about the states_edu dataset here: https://www.kaggle.com/noriuk/us-education-datasets-unification-project"
      ]
    },
    {
      "cell_type": "markdown",
      "metadata": {
        "id": "bNZiv1Kcbd3r"
      },
      "source": [
        "Use this space to rename columns, deal with missing data, etc. _(optional)_"
      ]
    },
    {
      "cell_type": "code",
      "execution_count": null,
      "metadata": {
        "id": "2Ms_evPWbd3r"
      },
      "outputs": [],
      "source": []
    },
    {
      "cell_type": "markdown",
      "metadata": {
        "id": "oLolgRPfbd3r"
      },
      "source": [
        "<h2>Exploratory Data Analysis (EDA) </h2>"
      ]
    },
    {
      "cell_type": "markdown",
      "metadata": {
        "id": "2BB2n9tTbd3r"
      },
      "source": [
        "Chosen one of Grade 4 Reading, Grade 4 Math, or Grade 8 Math to focus on: *ENTER YOUR CHOICE HERE*"
      ]
    },
    {
      "cell_type": "markdown",
      "metadata": {
        "id": "TyCRv-jybd3r"
      },
      "source": [
        "How many years of data are logged in our dataset?"
      ]
    },
    {
      "cell_type": "code",
      "execution_count": null,
      "metadata": {
        "id": "4TeSRptYbd3r"
      },
      "outputs": [],
      "source": [
        "# @@@ 1\n",
        "years_of_data = data['year'].nunique()\n",
        "print(f\"Number of years in the dataset: {years_of_data}\")"
      ]
    },
    {
      "cell_type": "markdown",
      "metadata": {
        "id": "wsLN02debd3s"
      },
      "source": [
        "Let's compare Michigan to Ohio. Which state has the higher average across all years in the test you chose?"
      ]
    },
    {
      "cell_type": "code",
      "execution_count": null,
      "metadata": {
        "id": "jEzBqztybd3s"
      },
      "outputs": [],
      "source": [
        "# @@@ 2\n",
        "michigan_avg = data[data['state'] == 'MICHIGAN']['avg_math_4_score'].mean()\n",
        "ohio_avg = data[data['state'] == 'OHIO']['avg_math_4_score'].mean()\n",
        "print(f\"Michigan average: {michigan_avg}, Ohio average: {ohio_avg}\")"
      ]
    },
    {
      "cell_type": "markdown",
      "metadata": {
        "id": "ba_xRiLNbd3s"
      },
      "source": [
        "Find the average for your chosen test across all states in 2019"
      ]
    },
    {
      "cell_type": "code",
      "execution_count": null,
      "metadata": {
        "id": "wPUXWEQabd3s"
      },
      "outputs": [],
      "source": [
        "# @@@ 3\n",
        "average_2019 = data[data['year'] == 2019]['avg_math_4_score'].mean()\n",
        "print(f\"Average Grade 4 Math score in 2019: {average_2019}\")"
      ]
    },
    {
      "cell_type": "markdown",
      "metadata": {
        "id": "K0qMRzembd3s"
      },
      "source": [
        "For each state, find a maximum value for your chosen test score"
      ]
    },
    {
      "cell_type": "code",
      "execution_count": null,
      "metadata": {
        "id": "QoAhzwUsbd3s"
      },
      "outputs": [],
      "source": [
        "# @@@ 4\n",
        "max_scores_by_state = data.groupby('state')['avg_math_4_score'].max()\n",
        "print(\"Maximum scores by state:\")\n",
        "print(max_scores_by_state)"
      ]
    },
    {
      "cell_type": "markdown",
      "metadata": {
        "id": "WyDjQ8bkbd3s"
      },
      "source": [
        "*Refer to the `Grouping and Aggregating` section in Tutorial 0 if you are stuck."
      ]
    },
    {
      "cell_type": "markdown",
      "metadata": {
        "id": "mklXk-OXbd3s"
      },
      "source": [
        "<h2> Feature Engineering </h2>\n",
        "\n",
        "After exploring the data, you can choose to modify features that you would use to predict the performance of the students on your chosen response variable.\n",
        "\n",
        "You can also create your own features. For example, perhaps you figured that maybe a state's expenditure per student may affect their overall academic performance so you create a expenditure_per_student feature.\n",
        "\n",
        "Use this space to modify or create features."
      ]
    },
    {
      "cell_type": "code",
      "execution_count": null,
      "metadata": {
        "id": "wY190Odnbd3s"
      },
      "outputs": [],
      "source": [
        "# @@@ 5\n",
        "plt.figure(figsize=(10, 6))\n",
        "plt.scatter(data['expenditure_per_student'], data['avg_math_4_score'], alpha=0.5)\n",
        "plt.title('Expenditure per Student vs Grade 4 Math Score')\n",
        "plt.xlabel('Expenditure per Student')\n",
        "plt.ylabel('Grade 4 Math Score')\n",
        "plt.show()"
      ]
    },
    {
      "cell_type": "markdown",
      "metadata": {
        "id": "ra6XWtAjbd3s"
      },
      "source": [
        "Feature engineering justification: **<BRIEFLY DESCRIBE WHY YOU MADE THE CHANGES THAT YOU DID\\>**"
      ]
    },
    {
      "cell_type": "markdown",
      "metadata": {
        "id": "o3VTH8EWbd3s"
      },
      "source": [
        "<h2>Visualization</h2>\n",
        "\n",
        "Investigate the relationship between your chosen response variable and at least two predictors using visualizations. Write down your observations.\n",
        "\n",
        "**Visualization 1**"
      ]
    },
    {
      "cell_type": "code",
      "execution_count": null,
      "metadata": {
        "id": "t1ohr66Vbd3s"
      },
      "outputs": [],
      "source": [
        "# @@@ 6\n",
        "plt.figure(figsize=(10, 6))\n",
        "data.groupby('year')['avg_math_4_score'].mean().plot(kind='line')\n",
        "plt.title('Average Grade 4 Math Score Over Time')\n",
        "plt.xlabel('Year')\n",
        "plt.ylabel('Grade 4 Math Score')\n",
        "plt.show()\n"
      ]
    },
    {
      "cell_type": "markdown",
      "metadata": {
        "id": "_-ckJh74bd3s"
      },
      "source": [
        "**<CAPTION FOR VIZ 1>**"
      ]
    },
    {
      "cell_type": "markdown",
      "metadata": {
        "id": "Bvny7SHrbd3s"
      },
      "source": [
        "**Visualization 2**"
      ]
    },
    {
      "cell_type": "code",
      "execution_count": null,
      "metadata": {
        "id": "tnQbJ-bebd3s"
      },
      "outputs": [],
      "source": [
        "# @@@ 7\n",
        "X = data[['expenditure_per_student', 'year']]\n",
        "y = data['avg_math_4_score']\n",
        "\n",
        "X_train, X_test, y_train, y_test = train_test_split(X, y, test_size=0.2, random_state=42)"
      ]
    },
    {
      "cell_type": "markdown",
      "metadata": {
        "id": "9dKZW6L9bd3s"
      },
      "source": [
        "**<CAPTION FOR VIZ 2>**"
      ]
    },
    {
      "cell_type": "markdown",
      "metadata": {
        "id": "9RVTOFBjbd3s"
      },
      "source": [
        "<h2> Data Creation </h2>\n",
        "\n",
        "_Use this space to create train/test data_"
      ]
    },
    {
      "cell_type": "code",
      "execution_count": null,
      "metadata": {
        "id": "ibX2I03hbd3s"
      },
      "outputs": [],
      "source": [
        "from sklearn.model_selection import train_test_split"
      ]
    },
    {
      "cell_type": "code",
      "execution_count": null,
      "metadata": {
        "id": "XEICuztfbd3s"
      },
      "outputs": [],
      "source": [
        "# @@@ 8\n",
        "model = LinearRegression()\n",
        "model.fit(X_train, y_train)\n",
        "\n",
        "# Evaluate the model\n",
        "y_pred = model.predict(X_test)\n",
        "mse = mean_squared_error(y_test, y_pred)\n",
        "r2 = r2_score(y_test, y_pred)\n",
        "print(f\"Mean Squared Error: {mse}\")\n",
        "print(f\"R-squared: {r2}\")"
      ]
    },
    {
      "cell_type": "code",
      "execution_count": null,
      "metadata": {
        "id": "yLANoDxUbd3s"
      },
      "outputs": [],
      "source": [
        "# @@@ 9\n",
        "col_name = 'expenditure_per_student'\n",
        "\n",
        "plt.figure(figsize=(12, 6))\n",
        "plt.scatter(X_train[col_name], y_train, color=\"red\")\n",
        "plt.scatter(X_train[col_name], model.predict(X_train), color=\"green\")\n",
        "plt.legend(['True Training', 'Predicted Training'])\n",
        "plt.xlabel(col_name)\n",
        "plt.ylabel('Grade 4 Math Score')\n",
        "plt.title(\"Model Behavior On Training Set\")\n",
        "plt.show()"
      ]
    },
    {
      "cell_type": "markdown",
      "metadata": {
        "id": "W0HWcdzTbd3s"
      },
      "source": [
        "<h2> Prediction </h2>"
      ]
    },
    {
      "cell_type": "markdown",
      "metadata": {
        "id": "P1vxQUlpbd3s"
      },
      "source": [
        "ML Models [Resource](https://medium.com/@vijaya.beeravalli/comparison-of-machine-learning-classification-models-for-credit-card-default-data-c3cf805c9a5a)"
      ]
    },
    {
      "cell_type": "code",
      "execution_count": null,
      "metadata": {
        "id": "F8ic_OSSbd3s"
      },
      "outputs": [],
      "source": [
        "# @@@ 10\n",
        "plt.figure(figsize=(12, 6))\n",
        "plt.scatter(X_test[col_name], y_test, color=\"blue\")\n",
        "plt.scatter(X_test[col_name], y_pred, color=\"black\")\n",
        "plt.legend(['True Testing', 'Predicted Testing'])\n",
        "plt.xlabel(col_name)\n",
        "plt.ylabel('Grade 4 Math Score')\n",
        "plt.title(\"Model Behavior on Testing Set\")\n",
        "plt.show()"
      ]
    },
    {
      "cell_type": "code",
      "execution_count": null,
      "metadata": {
        "id": "iDs0ntL6bd3s"
      },
      "outputs": [],
      "source": [
        "# @@@ 11\n",
        "training_r2 = r2_score(y_train, model.predict(X_train))\n",
        "testing_r2 = r2_score(y_test, y_pred)\n",
        "print(f\"Training R-squared: {training_r2}\")\n",
        "print(f\"Testing R-squared: {testing_r2}\")"
      ]
    },
    {
      "cell_type": "code",
      "execution_count": null,
      "metadata": {
        "id": "gfkEQ18qbd3v"
      },
      "outputs": [],
      "source": [
        "model.fit(X_train, y_train)"
      ]
    },
    {
      "cell_type": "code",
      "execution_count": null,
      "metadata": {
        "id": "06YQSFs0bd3v"
      },
      "outputs": [],
      "source": [
        "y_pred = model.predict(X_test)"
      ]
    },
    {
      "cell_type": "markdown",
      "metadata": {
        "id": "gEw2hCUdbd3v"
      },
      "source": [
        "## Evaluation"
      ]
    },
    {
      "cell_type": "markdown",
      "metadata": {
        "id": "FbTANW26bd3v"
      },
      "source": [
        "Choose some metrics to evaluate the performance of your model, some of them are mentioned in the tutorial."
      ]
    },
    {
      "cell_type": "code",
      "execution_count": null,
      "metadata": {
        "id": "hPs5bxlcbd3v"
      },
      "outputs": [],
      "source": [
        "# @@@ 12\n",
        "training_mse = mean_squared_error(y_train, model.predict(X_train))\n",
        "testing_mse = mean_squared_error(y_test, y_pred)\n",
        "print(f\"Training Mean Squared Error: {training_mse}\")\n",
        "print(f\"Testing Mean Squared Error: {testing_mse}\")"
      ]
    },
    {
      "cell_type": "markdown",
      "metadata": {
        "id": "1a2SsHo9bd3v"
      },
      "source": [
        "We have copied over the graphs that visualize the model's performance on the training and testing set.\n",
        "\n",
        "Change `col_name` and modify the call to `plt.ylabel()` to isolate how a single predictor affects the model."
      ]
    },
    {
      "cell_type": "code",
      "execution_count": null,
      "metadata": {
        "id": "u6Y2ebvvbd3v"
      },
      "outputs": [],
      "source": [
        "# @@@ 13\n",
        "col_name = 'year'\n",
        "\n",
        "plt.figure(figsize=(12, 6))\n",
        "plt.scatter(X_train[col_name], y_train, color=\"red\")\n",
        "plt.scatter(X_train[col_name], model.predict(X_train), color=\"green\")\n",
        "plt.legend(['True Training', 'Predicted Training'])\n",
        "plt.xlabel(col_name)\n",
        "plt.ylabel('Grade 4 Math Score')\n",
        "plt.title(\"Model Behavior on Training Set (Year)\")\n",
        "plt.show()"
      ]
    },
    {
      "cell_type": "code",
      "execution_count": null,
      "metadata": {
        "id": "henngQ7Ybd3v"
      },
      "outputs": [],
      "source": [
        "# @@@ 14\n",
        "plt.figure(figsize=(12, 6))\n",
        "plt.scatter(X_test[col_name], y_test, color=\"blue\")\n",
        "plt.scatter(X_test[col_name], y_pred, color=\"black\")\n",
        "plt.legend(['True Testing', 'Predicted Testing'])\n",
        "plt.xlabel(col_name)\n",
        "plt.ylabel('Grade 4 Math Score')\n",
        "plt.title(\"Model Behavior on Testing Set (Year)\")\n",
        "plt.show()"
      ]
    }
  ],
  "metadata": {
    "kernelspec": {
      "display_name": "Python 3.9.0 64-bit",
      "language": "python",
      "name": "python3"
    },
    "language_info": {
      "codemirror_mode": {
        "name": "ipython",
        "version": 3
      },
      "file_extension": ".py",
      "mimetype": "text/x-python",
      "name": "python",
      "nbconvert_exporter": "python",
      "pygments_lexer": "ipython3",
      "version": "3.9.0"
    },
    "vscode": {
      "interpreter": {
        "hash": "6cf8df3ff69f85f626faf55c10df6fe2cb9d1236b4dc73844ee4dc01369c2c99"
      }
    },
    "colab": {
      "provenance": []
    }
  },
  "nbformat": 4,
  "nbformat_minor": 0
}