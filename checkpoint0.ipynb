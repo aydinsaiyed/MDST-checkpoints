{
  "cells": [
    {
      "cell_type": "markdown",
      "metadata": {
        "id": "0a8IYAJUshu1"
      },
      "source": [
        "# Checkpoint 0"
      ],
      "id": "0a8IYAJUshu1"
    },
    {
      "cell_type": "markdown",
      "metadata": {
        "id": "693PytBxVXrD"
      },
      "source": [
        "These exercises are a mix of Python and Pandas practice. Most should be no more than a few lines of code!\n",
        "\n",
        "Do not remove comments that start with: \"# @@@\" (Those are question tags)"
      ],
      "id": "693PytBxVXrD"
    },
    {
      "cell_type": "code",
      "execution_count": null,
      "metadata": {
        "id": "Jo6wuTgkshu1"
      },
      "outputs": [],
      "source": [
        "# @@@ Question 1: Here is a python list, initialize another list called b with the same values as a.\n",
        "a = [1, 2, 3, 4, 5, 6]\n",
        "# Initialize another list called b with the same values as a\n",
        "b = a.copy()"
      ],
      "id": "Jo6wuTgkshu1"
    },
    {
      "cell_type": "code",
      "execution_count": null,
      "id": "779d96b1",
      "metadata": {
        "id": "779d96b1"
      },
      "outputs": [],
      "source": [
        "# @@@ Question 2: get a list containing the last 3 elements of b\n",
        "# Yes, you can just type out [4, 5, 6] but we really want to see you demonstrate you know how to use list slicing in Python\n",
        "last_three = b[-3:]"
      ]
    },
    {
      "cell_type": "code",
      "execution_count": null,
      "id": "b6a54def",
      "metadata": {
        "id": "b6a54def"
      },
      "outputs": [],
      "source": [
        "# @@@ Question 3: Create a list of numbers from 1 to 20\n",
        "numbers = list(range(1, 21))"
      ]
    },
    {
      "cell_type": "code",
      "execution_count": null,
      "id": "487873ac",
      "metadata": {
        "id": "487873ac"
      },
      "outputs": [],
      "source": [
        "# @@@ Question 4: now get a list with only the even numbers between 1 and 100\n",
        "even_numbers = [n for n in range(1, 101) if n % 2 == 0]"
      ]
    },
    {
      "cell_type": "code",
      "execution_count": null,
      "id": "3d4bb5dd",
      "metadata": {
        "id": "3d4bb5dd"
      },
      "outputs": [],
      "source": [
        "# @@@ Question 5: write a function that takes two numbers as arguments\n",
        "# and returns the first number divided by the second\n",
        "def divide_numbers(num1, num2):\n",
        "    return num1 / num2 if num2 != 0 else \"Division by zero is not allowed\""
      ]
    },
    {
      "cell_type": "code",
      "execution_count": null,
      "id": "f55df04e",
      "metadata": {
        "id": "f55df04e"
      },
      "outputs": [],
      "source": [
        "# @@@ Queston 6: fizzbuzz\n",
        "# you will need to use both iteration and control flow\n",
        "# go through all numbers from 1 to 30 in order\n",
        "# if the number is a multiple of 3, print fizz\n",
        "# if the number is a multiple of 5, print buzz\n",
        "# if the number is a multiple of 3 and 5, print fizzbuzz and NOTHING ELSE\n",
        "# if the number is neither a multiple of 3 nor a multiple of 5, print the number\n",
        "for i in range(1, 31):\n",
        "    if i % 3 == 0 and i % 5 == 0:\n",
        "        print('fizzbuzz')\n",
        "    elif i % 3 == 0:\n",
        "        print('fizz')\n",
        "    elif i % 5 == 0:\n",
        "        print('buzz')\n",
        "    else:\n",
        "        print(i)"
      ]
    },
    {
      "cell_type": "code",
      "execution_count": null,
      "id": "78aace0b",
      "metadata": {
        "id": "78aace0b"
      },
      "outputs": [],
      "source": [
        "# @@@ Question 7: create a dictionary that reflects the following menu pricing (taken from Ahmo's)\n",
        "# Gyro: $9\n",
        "# Burger: $9\n",
        "# Greek Salad: $8\n",
        "# Philly Steak: $10\n",
        "menu_pricing = {\n",
        "    \"Gyro\": 9,\n",
        "    \"Burger\": 9,\n",
        "    \"Greek Salad\": 8,\n",
        "    \"Philly Steak\": 10\n",
        "}"
      ]
    },
    {
      "cell_type": "code",
      "execution_count": null,
      "metadata": {
        "id": "WzCQ5HOJshvA"
      },
      "outputs": [],
      "source": [
        "# @@@ Question 8: load in the \"starbucks.csv\" dataset\n",
        "# refer to how we read the cereal.csv dataset in the tutorial\n",
        "import pandas as pd\n",
        "starbucks_data = pd.read_csv(\"starbucks.csv\")"
      ],
      "id": "WzCQ5HOJshvA"
    },
    {
      "cell_type": "code",
      "execution_count": null,
      "id": "ac0f0c12",
      "metadata": {
        "id": "ac0f0c12"
      },
      "outputs": [],
      "source": [
        "# @@@ Question 9: select all rows with more than and including 400 calories\n",
        "high_calories = starbucks_data[starbucks_data['Calories'] >= 400]"
      ]
    },
    {
      "cell_type": "code",
      "execution_count": null,
      "id": "ee8f8241",
      "metadata": {
        "id": "ee8f8241"
      },
      "outputs": [],
      "source": [
        "# @@@ Question 10: select all rows whose vitamin c content is higher than the iron content\n",
        "vitamin_c_higher = starbucks_data[starbucks_data['Vitamin C (mg)'] > starbucks_data['Iron (mg)']]"
      ]
    },
    {
      "cell_type": "code",
      "execution_count": null,
      "id": "d4de48bb",
      "metadata": {
        "id": "d4de48bb"
      },
      "outputs": [],
      "source": [
        "# @@@ Question 11: create a new column containing the caffeine per calories of each drink\n",
        "starbucks_data['Caffeine per Calorie'] = starbucks_data['Caffeine (mg)'] / starbucks_data['Calories']"
      ]
    },
    {
      "cell_type": "code",
      "execution_count": null,
      "metadata": {
        "id": "rIoxaSxHshvB"
      },
      "outputs": [],
      "source": [
        "# @@@ Question 12: what is the average calorie across all items?\n",
        "average_calories = starbucks_data['Calories'].mean()"
      ],
      "id": "rIoxaSxHshvB"
    },
    {
      "cell_type": "code",
      "execution_count": null,
      "metadata": {
        "id": "ABX7i49FshvD"
      },
      "outputs": [],
      "source": [
        "# @@@ Question 13: how many different categories of beverages are there?\n",
        "unique_categories = starbucks_data['Beverage_category'].nunique()"
      ],
      "id": "ABX7i49FshvD"
    },
    {
      "cell_type": "code",
      "execution_count": null,
      "metadata": {
        "id": "P9QatZAzshvE"
      },
      "outputs": [],
      "source": [
        "# @@@ Question 14: what is the average # calories for each beverage category?\n",
        "average_calories_per_category = starbucks_data.groupby('Beverage_category')['Calories'].mean()"
      ],
      "id": "P9QatZAzshvE"
    }
  ],
  "metadata": {
    "kernelspec": {
      "display_name": "Python 3.9.0 64-bit",
      "language": "python",
      "name": "python3"
    },
    "language_info": {
      "codemirror_mode": {
        "name": "ipython",
        "version": 3
      },
      "file_extension": ".py",
      "mimetype": "text/x-python",
      "name": "python",
      "nbconvert_exporter": "python",
      "pygments_lexer": "ipython3",
      "version": "3.9.0"
    },
    "vscode": {
      "interpreter": {
        "hash": "6cf8df3ff69f85f626faf55c10df6fe2cb9d1236b4dc73844ee4dc01369c2c99"
      }
    },
    "colab": {
      "provenance": []
    }
  },
  "nbformat": 4,
  "nbformat_minor": 5
}